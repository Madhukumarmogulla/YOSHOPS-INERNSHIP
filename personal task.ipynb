{
 "cells": [
  {
   "cell_type": "markdown",
   "id": "b0605ab7",
   "metadata": {},
   "source": [
    " # <div class=\"alert alert-info\" style=\"background-color:#006666; color:white; padding:0px 10px; border-radius:5px;\"><h2 style='margin:10px 5px'>personal task</h2></div>"
   ]
  },
  {
   "cell_type": "code",
   "execution_count": 1,
   "id": "6b97406c",
   "metadata": {},
   "outputs": [
    {
     "name": "stdout",
     "output_type": "stream",
     "text": [
      "Requirement already satisfied: xlsxwriter in c:\\users\\madhu\\anaconda3\\lib\\site-packages (3.0.1)\n"
     ]
    }
   ],
   "source": [
    "!pip install xlsxwriter"
   ]
  },
  {
   "cell_type": "code",
   "execution_count": 2,
   "id": "90e7d58f",
   "metadata": {},
   "outputs": [],
   "source": [
    "import pandas as pd\n",
    "\n",
    "import warnings\n",
    "warnings.filterwarnings('ignore')\n",
    "\n",
    "pd.set_option('display.max_columns',200)\n",
    "pd.set_option('display.max_rows',None)"
   ]
  },
  {
   "cell_type": "markdown",
   "id": "f3ce0c2d",
   "metadata": {},
   "source": [
    "# <font color = 'green'>1.Python program to Create a excel file </font>"
   ]
  },
  {
   "cell_type": "code",
   "execution_count": 3,
   "id": "9c81be50",
   "metadata": {},
   "outputs": [],
   "source": [
    "#importing the module xlsxwriter to create,read and read the data.\n",
    "import xlsxwriter"
   ]
  },
  {
   "cell_type": "code",
   "execution_count": 4,
   "id": "59221407",
   "metadata": {},
   "outputs": [],
   "source": [
    "# the filename that we want to create.\n",
    "workbook = xlsxwriter.Workbook('ptask.xlsx')\n",
    "\n",
    "# The workbook object is then used to add new\n",
    "# worksheet via the add_worksheet() method.\n",
    "worksheet = workbook.add_worksheet()\n",
    "\n",
    "# Use the worksheet object to write\n",
    "# data via the write() method.\n",
    "worksheet.write('A1','Id')\n",
    "worksheet.write('B1','EMP_NAME')\n",
    "worksheet.write('C1','CELL')\n",
    "worksheet.write('D1','SALARY')\n",
    "worksheet.write('E1','AGE')\n",
    "emp_info = ([120,'ankit',9988098120, 10000,21],[121,'rahul',998598145,11000,23],[122,'priya',9988098345,30000,26],[123,'harshita',9984509100,50000,29])\n",
    "# Start from the first cell. Rows and\n",
    "# columns are zero indexed.\n",
    "row = 0\n",
    "col = 0\n",
    "\n",
    "for Id,emp_name,Cell,Salary,age in (emp_info):\n",
    "    worksheet.write(row,0,  Id)\n",
    "    worksheet.write(row,1,emp_name)\n",
    "    worksheet.write(row,2,Cell)\n",
    "    worksheet.write(row,3,Salary)\n",
    "    worksheet.write(row,4,age)\n",
    "    row+=1\n",
    "    \n",
    "workbook.close()    \n",
    "    \n",
    "    \n",
    "                                        "
   ]
  },
  {
   "cell_type": "markdown",
   "id": "09d1a53b",
   "metadata": {},
   "source": [
    "# <font color = 'green'>2. Python program for Import data from an excel file </font>"
   ]
  },
  {
   "cell_type": "code",
   "execution_count": 5,
   "id": "2819dcdc",
   "metadata": {},
   "outputs": [],
   "source": [
    "import pandas as pd\n",
    "import numpy as np"
   ]
  },
  {
   "cell_type": "code",
   "execution_count": 6,
   "id": "a80e39fd",
   "metadata": {},
   "outputs": [],
   "source": [
    "data = pd.read_excel(\"ptask.xlsx\")"
   ]
  },
  {
   "cell_type": "code",
   "execution_count": 7,
   "id": "d8996ee7",
   "metadata": {},
   "outputs": [
    {
     "data": {
      "text/html": [
       "<div>\n",
       "<style scoped>\n",
       "    .dataframe tbody tr th:only-of-type {\n",
       "        vertical-align: middle;\n",
       "    }\n",
       "\n",
       "    .dataframe tbody tr th {\n",
       "        vertical-align: top;\n",
       "    }\n",
       "\n",
       "    .dataframe thead th {\n",
       "        text-align: right;\n",
       "    }\n",
       "</style>\n",
       "<table border=\"1\" class=\"dataframe\">\n",
       "  <thead>\n",
       "    <tr style=\"text-align: right;\">\n",
       "      <th></th>\n",
       "      <th>120</th>\n",
       "      <th>ankit</th>\n",
       "      <th>9988098120</th>\n",
       "      <th>10000</th>\n",
       "      <th>21</th>\n",
       "    </tr>\n",
       "  </thead>\n",
       "  <tbody>\n",
       "    <tr>\n",
       "      <th>0</th>\n",
       "      <td>121</td>\n",
       "      <td>rahul</td>\n",
       "      <td>998598145</td>\n",
       "      <td>11000</td>\n",
       "      <td>23</td>\n",
       "    </tr>\n",
       "    <tr>\n",
       "      <th>1</th>\n",
       "      <td>122</td>\n",
       "      <td>priya</td>\n",
       "      <td>9988098345</td>\n",
       "      <td>30000</td>\n",
       "      <td>26</td>\n",
       "    </tr>\n",
       "    <tr>\n",
       "      <th>2</th>\n",
       "      <td>123</td>\n",
       "      <td>harshita</td>\n",
       "      <td>9984509100</td>\n",
       "      <td>50000</td>\n",
       "      <td>29</td>\n",
       "    </tr>\n",
       "  </tbody>\n",
       "</table>\n",
       "</div>"
      ],
      "text/plain": [
       "   120     ankit  9988098120  10000  21\n",
       "0  121     rahul   998598145  11000  23\n",
       "1  122     priya  9988098345  30000  26\n",
       "2  123  harshita  9984509100  50000  29"
      ]
     },
     "execution_count": 7,
     "metadata": {},
     "output_type": "execute_result"
    }
   ],
   "source": [
    "data.head()"
   ]
  },
  {
   "cell_type": "code",
   "execution_count": 8,
   "id": "08a35026",
   "metadata": {},
   "outputs": [],
   "source": [
    "df = data.to_excel('ptask.xlsx',index = False)"
   ]
  },
  {
   "cell_type": "code",
   "execution_count": 9,
   "id": "55e9c177",
   "metadata": {},
   "outputs": [],
   "source": [
    "df1 = pd.read_excel('ptask.xlsx')"
   ]
  },
  {
   "cell_type": "code",
   "execution_count": 10,
   "id": "21362255",
   "metadata": {},
   "outputs": [
    {
     "data": {
      "text/html": [
       "<div>\n",
       "<style scoped>\n",
       "    .dataframe tbody tr th:only-of-type {\n",
       "        vertical-align: middle;\n",
       "    }\n",
       "\n",
       "    .dataframe tbody tr th {\n",
       "        vertical-align: top;\n",
       "    }\n",
       "\n",
       "    .dataframe thead th {\n",
       "        text-align: right;\n",
       "    }\n",
       "</style>\n",
       "<table border=\"1\" class=\"dataframe\">\n",
       "  <thead>\n",
       "    <tr style=\"text-align: right;\">\n",
       "      <th></th>\n",
       "      <th>120</th>\n",
       "      <th>ankit</th>\n",
       "      <th>9988098120</th>\n",
       "      <th>10000</th>\n",
       "      <th>21</th>\n",
       "    </tr>\n",
       "  </thead>\n",
       "  <tbody>\n",
       "    <tr>\n",
       "      <th>0</th>\n",
       "      <td>121</td>\n",
       "      <td>rahul</td>\n",
       "      <td>998598145</td>\n",
       "      <td>11000</td>\n",
       "      <td>23</td>\n",
       "    </tr>\n",
       "    <tr>\n",
       "      <th>1</th>\n",
       "      <td>122</td>\n",
       "      <td>priya</td>\n",
       "      <td>9988098345</td>\n",
       "      <td>30000</td>\n",
       "      <td>26</td>\n",
       "    </tr>\n",
       "    <tr>\n",
       "      <th>2</th>\n",
       "      <td>123</td>\n",
       "      <td>harshita</td>\n",
       "      <td>9984509100</td>\n",
       "      <td>50000</td>\n",
       "      <td>29</td>\n",
       "    </tr>\n",
       "  </tbody>\n",
       "</table>\n",
       "</div>"
      ],
      "text/plain": [
       "   120     ankit  9988098120  10000  21\n",
       "0  121     rahul   998598145  11000  23\n",
       "1  122     priya  9988098345  30000  26\n",
       "2  123  harshita  9984509100  50000  29"
      ]
     },
     "execution_count": 10,
     "metadata": {},
     "output_type": "execute_result"
    }
   ],
   "source": [
    "df1.head()"
   ]
  },
  {
   "cell_type": "markdown",
   "id": "6f668e98",
   "metadata": {},
   "source": [
    "# <font color = \"green\">3.Python program for Format data in excel sheet </font>"
   ]
  },
  {
   "cell_type": "code",
   "execution_count": 11,
   "id": "16c20697",
   "metadata": {},
   "outputs": [],
   "source": [
    "# the filename that we want to create.\n",
    "workbook = xlsxwriter.Workbook('formated.xlsx')\n",
    "\n",
    "# The workbook object is then used to add new\n",
    "# worksheet via the add_worksheet() method.\n",
    "worksheet = workbook.add_worksheet()\n",
    "\n",
    "# Add a bold format to use to highlight cells.\n",
    "bold = workbook.add_format({'bold': True})\n",
    "\n",
    "\n",
    " # Add a number format for cells with money.\n",
    "formate = workbook.add_format({'color': '#E26B0A'})\n",
    "\n",
    " # Write some data headers.\n",
    "worksheet.write('A1', 'ID', bold)\n",
    "worksheet.write('B1', 'EMP_NAME', bold)\n",
    "worksheet.write('C1', 'CELL', bold)\n",
    "worksheet.write('D1', 'SALARY', bold)\n",
    "worksheet.write('E1', 'AGE', bold)\n",
    "\n",
    "# Use the worksheet object to write\n",
    "# data via the write() method.\n",
    "\n",
    "emp_info = ([120,'ankit',9988098120, 10000,21],[121,'rahul',998598145,11000,23],[122,'priya',9988098345,30000,26],[123,'harshita',9984509100,50000,29])\n",
    "# Start from the first cell. Rows and\n",
    "# columns are zero indexed.\n",
    "row = 0\n",
    "col = 0\n",
    "\n",
    "for Id,emp_name,Cell,Salary,age in (emp_info):\n",
    "    worksheet.write(row,0,  Id,formate)\n",
    "    worksheet.write(row,1,emp_name,formate)\n",
    "    worksheet.write(row,2,Cell,formate)\n",
    "    worksheet.write(row,3,Salary,formate)\n",
    "    worksheet.write(row,4,age,formate)\n",
    "    row+=1\n",
    "    \n",
    "workbook.close()    \n",
    "    \n",
    "    \n",
    "                                        \n",
    "\n"
   ]
  },
  {
   "cell_type": "code",
   "execution_count": 12,
   "id": "1f3f4964",
   "metadata": {},
   "outputs": [
    {
     "data": {
      "text/html": [
       "<div>\n",
       "<style scoped>\n",
       "    .dataframe tbody tr th:only-of-type {\n",
       "        vertical-align: middle;\n",
       "    }\n",
       "\n",
       "    .dataframe tbody tr th {\n",
       "        vertical-align: top;\n",
       "    }\n",
       "\n",
       "    .dataframe thead th {\n",
       "        text-align: right;\n",
       "    }\n",
       "</style>\n",
       "<table border=\"1\" class=\"dataframe\">\n",
       "  <thead>\n",
       "    <tr style=\"text-align: right;\">\n",
       "      <th></th>\n",
       "      <th>120</th>\n",
       "      <th>ankit</th>\n",
       "      <th>9988098120</th>\n",
       "      <th>10000</th>\n",
       "      <th>21</th>\n",
       "    </tr>\n",
       "  </thead>\n",
       "  <tbody>\n",
       "    <tr>\n",
       "      <th>0</th>\n",
       "      <td>121</td>\n",
       "      <td>rahul</td>\n",
       "      <td>998598145</td>\n",
       "      <td>11000</td>\n",
       "      <td>23</td>\n",
       "    </tr>\n",
       "    <tr>\n",
       "      <th>1</th>\n",
       "      <td>122</td>\n",
       "      <td>priya</td>\n",
       "      <td>9988098345</td>\n",
       "      <td>30000</td>\n",
       "      <td>26</td>\n",
       "    </tr>\n",
       "    <tr>\n",
       "      <th>2</th>\n",
       "      <td>123</td>\n",
       "      <td>harshita</td>\n",
       "      <td>9984509100</td>\n",
       "      <td>50000</td>\n",
       "      <td>29</td>\n",
       "    </tr>\n",
       "  </tbody>\n",
       "</table>\n",
       "</div>"
      ],
      "text/plain": [
       "   120     ankit  9988098120  10000  21\n",
       "0  121     rahul   998598145  11000  23\n",
       "1  122     priya  9988098345  30000  26\n",
       "2  123  harshita  9984509100  50000  29"
      ]
     },
     "execution_count": 12,
     "metadata": {},
     "output_type": "execute_result"
    }
   ],
   "source": [
    "data.head()"
   ]
  },
  {
   "cell_type": "code",
   "execution_count": 13,
   "id": "fa17e2ba",
   "metadata": {},
   "outputs": [],
   "source": [
    "column = data.columns \n"
   ]
  },
  {
   "cell_type": "code",
   "execution_count": 14,
   "id": "534a300b",
   "metadata": {},
   "outputs": [
    {
     "data": {
      "text/plain": [
       "Index([120, 'ankit', 9988098120, 10000, 21], dtype='object')"
      ]
     },
     "execution_count": 14,
     "metadata": {},
     "output_type": "execute_result"
    }
   ],
   "source": [
    "column"
   ]
  },
  {
   "cell_type": "code",
   "execution_count": 15,
   "id": "ce4c628d",
   "metadata": {},
   "outputs": [],
   "source": [
    "#Renamed column name perhaps columns and row1 are overlapped"
   ]
  },
  {
   "cell_type": "code",
   "execution_count": 16,
   "id": "df167aaf",
   "metadata": {},
   "outputs": [],
   "source": [
    "data.rename(columns={120:'Id','ankit':'Emp_name',9988098120:'Cell',10000:'salary',21:'Age'},inplace = True)"
   ]
  },
  {
   "cell_type": "code",
   "execution_count": 17,
   "id": "1d2744ee",
   "metadata": {},
   "outputs": [],
   "source": [
    "new_row = {'Id':120,'Emp_name':'ankit','Cell':9988098120,'salary':10000,'Age':21}"
   ]
  },
  {
   "cell_type": "code",
   "execution_count": 18,
   "id": "a1b2506c",
   "metadata": {},
   "outputs": [],
   "source": [
    "data = data.append(new_row,ignore_index= True)"
   ]
  },
  {
   "cell_type": "code",
   "execution_count": 19,
   "id": "c78762c3",
   "metadata": {},
   "outputs": [
    {
     "data": {
      "text/plain": [
       "Id           int64\n",
       "Emp_name    object\n",
       "Cell         int64\n",
       "salary       int64\n",
       "Age          int64\n",
       "dtype: object"
      ]
     },
     "execution_count": 19,
     "metadata": {},
     "output_type": "execute_result"
    }
   ],
   "source": [
    "data.dtypes"
   ]
  },
  {
   "cell_type": "markdown",
   "id": "6f165b39",
   "metadata": {},
   "source": [
    "# <font color = \"green\">4. Python program for Prepare excel charts Pie Chart and Bar Chart</font>"
   ]
  },
  {
   "cell_type": "code",
   "execution_count": 20,
   "id": "d77e72a3",
   "metadata": {},
   "outputs": [],
   "source": [
    "import seaborn as sns\n",
    "import matplotlib.pyplot as plt\n",
    "from mpl_toolkits import mplot3d\n",
    "from matplotlib import style\n",
    "style.use('ggplot')"
   ]
  },
  {
   "cell_type": "code",
   "execution_count": 21,
   "id": "6e4c65a4",
   "metadata": {},
   "outputs": [
    {
     "data": {
      "image/png": "[encoded data removed]",
      "text/plain": [
       "<Figure size 432x288 with 1 Axes>"
      ]
     },
     "metadata": {},
     "output_type": "display_data"
    }
   ],
   "source": [
    "fig = plt.figure()\n",
    "\n",
    "\n",
    "ax1 = fig.add_subplot(111, projection='3d')\n",
    "\n",
    "x=data['Id']\n",
    "y=data['salary']\n",
    "z=data['Age']\n",
    "\n",
    "dx = data['Id']\n",
    "dy = data['salary']\n",
    "dz = data[\"Age\"]\n",
    "\n",
    "ax1.bar3d(x, y, z, dx, dy, dz)\n",
    "# plotting a 3D line graph with X-coordinate,\n",
    "# Y-coordinate and Z-coordinate respectively\n",
    "\n",
    "\n",
    "ax1.set_xlabel('x axis')\n",
    "ax1.set_ylabel('y axis')\n",
    "ax1.set_zlabel('z axis')\n",
    "\n",
    "plt.show()\n",
    "\n",
    "\n",
    "\n"
   ]
  },
  {
   "cell_type": "code",
   "execution_count": 22,
   "id": "d2c13560",
   "metadata": {},
   "outputs": [
    {
     "data": {
      "text/plain": [
       "<AxesSubplot:xlabel='salary', ylabel='Emp_name'>"
      ]
     },
     "execution_count": 22,
     "metadata": {},
     "output_type": "execute_result"
    },
    {
     "data": {
      "image/png": "[encoded data removed]",
      "text/plain": [
       "<Figure size 432x288 with 1 Axes>"
      ]
     },
     "metadata": {},
     "output_type": "display_data"
    }
   ],
   "source": [
    "sns.barplot(\n",
    "            \n",
    "            data['salary'],\n",
    "            data['Emp_name'],\n",
    "            hue = data['Age'],\n",
    "            palette=\"CMRmap\",\n",
    "            saturation=0.75,\n",
    "            errcolor='.08',\n",
    "            errwidth=0.5,\n",
    "            orient='h')\n",
    "\n",
    "\n"
   ]
  },
  {
   "cell_type": "code",
   "execution_count": 23,
   "id": "948af1a4",
   "metadata": {},
   "outputs": [
    {
     "data": {
      "image/png": "[encoded data removed]",
      "text/plain": [
       "<Figure size 432x288 with 1 Axes>"
      ]
     },
     "metadata": {},
     "output_type": "display_data"
    }
   ],
   "source": [
    "y =data['salary']\n",
    "mylabels = data['Emp_name']\n",
    "myexplode = [0.2, 0, 0, 0]\n",
    "plt.pie(y, labels = mylabels, explode = myexplode, shadow=True,\n",
    "    \n",
    "    startangle=90)\n",
    "\n",
    "\n",
    "\n",
    "plt.show()"
   ]
  },
  {
   "cell_type": "markdown",
   "id": "b4513f25",
   "metadata": {},
   "source": [
    "# <font color = \"green\">5. Python program for Extract mobile no. from PDF, Json,XML and MS word file and save into MS excel</font>"
   ]
  },
  {
   "cell_type": "code",
   "execution_count": 24,
   "id": "cfd55486",
   "metadata": {},
   "outputs": [],
   "source": [
    "import json\n",
    "import os\n"
   ]
  },
  {
   "cell_type": "code",
   "execution_count": 25,
   "id": "bb341ebc",
   "metadata": {},
   "outputs": [],
   "source": [
    "file = \"C:/Users/madhu/OneDrive/Desktop/yoshop internships/contact data/1657173630381_5042579018065678/\""
   ]
  },
  {
   "cell_type": "code",
   "execution_count": 26,
   "id": "ff8a7806",
   "metadata": {},
   "outputs": [],
   "source": [
    "main_file =[json for json in os.listdir(file) if json.endswith('.json')]"
   ]
  },
  {
   "cell_type": "code",
   "execution_count": 27,
   "id": "1449e02e",
   "metadata": {},
   "outputs": [
    {
     "data": {
      "text/plain": [
       "['01f163d0-f8ec-11ec-9ba6-1f4331c726ac.json',\n",
       " '067d5e81-fbb3-11ec-8622-bd773bafcd43.json',\n",
       " '102ea5b0-fa46-11ec-af59-f3d89214e142.json',\n",
       " '1b33d1d0-fb02-11ec-8013-c5c03606d8bf.json',\n",
       " '4c818cf1-fac6-11ec-9f8e-3f678721a566.json',\n",
       " '4fbd1cd0-faae-11ec-bd7f-cdb777eaba53.json',\n",
       " '612aefb0-fbbc-11ec-a27e-3b71999c2723.json',\n",
       " '62c072d0-f795-11ec-9702-4165492261e7.json',\n",
       " '69c41d60-f921-11ec-b076-f5d0ec16503b.json',\n",
       " '6bdba4c0-f74a-11ec-a0c1-0d2e72636470.json',\n",
       " '91705eb0-f7b3-11ec-9880-c1e4eddaee78.json',\n",
       " 'a95bb3f0-fb44-11ec-a242-a546b3d938a3.json',\n",
       " 'aa94a550-fb95-11ec-a7a6-3366c8149bd7.json',\n",
       " 'cce9c410-f91e-11ec-ac48-9f85e64f2db4.json',\n",
       " 'd2435130-fd54-11ec-a14b-4b9a499f8801.json',\n",
       " 'd4318e80-f773-11ec-a098-35551501145d.json',\n",
       " 'dbd828e0-fd6a-11ec-a14b-4b9a499f8801.json']"
      ]
     },
     "execution_count": 27,
     "metadata": {},
     "output_type": "execute_result"
    }
   ],
   "source": [
    "main_file"
   ]
  },
  {
   "cell_type": "code",
   "execution_count": 28,
   "id": "c080e7be",
   "metadata": {},
   "outputs": [
    {
     "name": "stdout",
     "output_type": "stream",
     "text": [
      "[{'Name': ' NARENDRA', 'Phone': ' 9391193459'}, {'Name': ' Anne', 'Phone': ' 6382105605'}, {'Name': ' Rohit Kumar', 'Phone': ' 9569402314'}, {'Name': ' Kamini', 'Phone': ' 8767852141'}, {'Name': ' Rajkabir Diwan', 'Phone': ' 8815007851'}, {'Name': ' Piryesh', 'Phone': ' 7073128350'}, {'Name': ' Nelson Friday', 'Phone': ' 08164881200'}, {'Name': ' Sagar Bhadge', 'Phone': ' 8459599718'}, {'Name': ' Prem Kumar', 'Phone': ' 9799818360'}, {'Name': ' Reena', 'Phone': ' 9528692288'}, {'Name': ' G. Balasubramanian', 'Phone': ' 9123557647'}, {'Name': ' Rajkabir', 'Phone': ' 8815007851'}, {'Name': ' Anil', 'Phone': ' 9515654885'}, {'Name': ' ramkumar', 'Phone': ' 9962278886'}, {'Name': ' Sandhya', 'Phone': ' 9154940621'}, {'Name': ' Manoj Pattnaik', 'Phone': ' 8280021014'}, {'Name': ' Dev Kanishka Kashyap', 'Phone': ' 7277862208'}]\n"
     ]
    }
   ],
   "source": [
    "list_file = []\n",
    "for ele in main_file:\n",
    "    mydict = {}\n",
    "    with open(file + ele,'r') as json_file:\n",
    "        sample=json.load(json_file)\n",
    "        test=sample['messages']\n",
    "        test1=test[1].values()\n",
    "        test2=list(test1)[3]\n",
    "        phone=test2.split(\":\")[2]\n",
    "        test3=test2.split(\":\")\n",
    "        name=test3[1].split (\"\\r\\n\")[0]\n",
    "        mydict['Name']=name\n",
    "        mydict['Phone']=phone \n",
    "        list_file.append (mydict)\n",
    "print(list_file)\n",
    "        "
   ]
  },
  {
   "cell_type": "code",
   "execution_count": 29,
   "id": "de0a3b5c",
   "metadata": {},
   "outputs": [],
   "source": [
    "df01 = pd.DataFrame(data=list_file)\n"
   ]
  },
  {
   "cell_type": "code",
   "execution_count": 30,
   "id": "67f0c6f1",
   "metadata": {},
   "outputs": [],
   "source": [
    "df01.to_excel('cell.xlsx',index = False)"
   ]
  },
  {
   "cell_type": "code",
   "execution_count": 31,
   "id": "da8562eb",
   "metadata": {},
   "outputs": [],
   "source": [
    "cell = ['Phone']"
   ]
  },
  {
   "cell_type": "code",
   "execution_count": 32,
   "id": "502a838f",
   "metadata": {},
   "outputs": [
    {
     "data": {
      "text/html": [
       "<div>\n",
       "<style scoped>\n",
       "    .dataframe tbody tr th:only-of-type {\n",
       "        vertical-align: middle;\n",
       "    }\n",
       "\n",
       "    .dataframe tbody tr th {\n",
       "        vertical-align: top;\n",
       "    }\n",
       "\n",
       "    .dataframe thead th {\n",
       "        text-align: right;\n",
       "    }\n",
       "</style>\n",
       "<table border=\"1\" class=\"dataframe\">\n",
       "  <thead>\n",
       "    <tr style=\"text-align: right;\">\n",
       "      <th></th>\n",
       "      <th>Phone</th>\n",
       "    </tr>\n",
       "  </thead>\n",
       "  <tbody>\n",
       "    <tr>\n",
       "      <th>0</th>\n",
       "      <td>9391193459</td>\n",
       "    </tr>\n",
       "    <tr>\n",
       "      <th>1</th>\n",
       "      <td>6382105605</td>\n",
       "    </tr>\n",
       "    <tr>\n",
       "      <th>2</th>\n",
       "      <td>9569402314</td>\n",
       "    </tr>\n",
       "    <tr>\n",
       "      <th>3</th>\n",
       "      <td>8767852141</td>\n",
       "    </tr>\n",
       "    <tr>\n",
       "      <th>4</th>\n",
       "      <td>8815007851</td>\n",
       "    </tr>\n",
       "    <tr>\n",
       "      <th>5</th>\n",
       "      <td>7073128350</td>\n",
       "    </tr>\n",
       "    <tr>\n",
       "      <th>6</th>\n",
       "      <td>8164881200</td>\n",
       "    </tr>\n",
       "    <tr>\n",
       "      <th>7</th>\n",
       "      <td>8459599718</td>\n",
       "    </tr>\n",
       "    <tr>\n",
       "      <th>8</th>\n",
       "      <td>9799818360</td>\n",
       "    </tr>\n",
       "    <tr>\n",
       "      <th>9</th>\n",
       "      <td>9528692288</td>\n",
       "    </tr>\n",
       "    <tr>\n",
       "      <th>10</th>\n",
       "      <td>9123557647</td>\n",
       "    </tr>\n",
       "    <tr>\n",
       "      <th>11</th>\n",
       "      <td>8815007851</td>\n",
       "    </tr>\n",
       "    <tr>\n",
       "      <th>12</th>\n",
       "      <td>9515654885</td>\n",
       "    </tr>\n",
       "    <tr>\n",
       "      <th>13</th>\n",
       "      <td>9962278886</td>\n",
       "    </tr>\n",
       "    <tr>\n",
       "      <th>14</th>\n",
       "      <td>9154940621</td>\n",
       "    </tr>\n",
       "    <tr>\n",
       "      <th>15</th>\n",
       "      <td>8280021014</td>\n",
       "    </tr>\n",
       "    <tr>\n",
       "      <th>16</th>\n",
       "      <td>7277862208</td>\n",
       "    </tr>\n",
       "  </tbody>\n",
       "</table>\n",
       "</div>"
      ],
      "text/plain": [
       "         Phone\n",
       "0   9391193459\n",
       "1   6382105605\n",
       "2   9569402314\n",
       "3   8767852141\n",
       "4   8815007851\n",
       "5   7073128350\n",
       "6   8164881200\n",
       "7   8459599718\n",
       "8   9799818360\n",
       "9   9528692288\n",
       "10  9123557647\n",
       "11  8815007851\n",
       "12  9515654885\n",
       "13  9962278886\n",
       "14  9154940621\n",
       "15  8280021014\n",
       "16  7277862208"
      ]
     },
     "execution_count": 32,
     "metadata": {},
     "output_type": "execute_result"
    }
   ],
   "source": [
    "df02 = pd.read_excel('cell.xlsx',usecols=cell)\n",
    "df02"
   ]
  },
  {
   "cell_type": "code",
   "execution_count": null,
   "id": "e15af6ed",
   "metadata": {},
   "outputs": [],
   "source": []
  }
 ],
 "metadata": {
  "kernelspec": {
   "display_name": "Python 3 (ipykernel)",
   "language": "python",
   "name": "python3"
  },
  "language_info": {
   "codemirror_mode": {
    "name": "ipython",
    "version": 3
   },
   "file_extension": ".py",
   "mimetype": "text/x-python",
   "name": "python",
   "nbconvert_exporter": "python",
   "pygments_lexer": "ipython3",
   "version": "3.9.7"
  }
 },
 "nbformat": 4,
 "nbformat_minor": 5
}
